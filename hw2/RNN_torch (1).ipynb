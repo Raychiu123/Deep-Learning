{
 "cells": [
  {
   "cell_type": "code",
   "execution_count": 1,
   "metadata": {},
   "outputs": [],
   "source": [
    "import numpy as np\n",
    "import torch.nn as nn\n",
    "import torch.optim as optim\n",
    "from torch.autograd import Variable\n",
    "import torch\n",
    "import matplotlib.pyplot as plt"
   ]
  },
  {
   "cell_type": "code",
   "execution_count": 4,
   "metadata": {},
   "outputs": [],
   "source": [
    "# training data\n",
    "data_URL = '/home/raychiu/Dataset/shakespeare_train.txt'\n",
    "with open(data_URL, 'r') as f:\n",
    "    text = f.read()\n",
    "\n",
    "vocab = set(text)\n",
    "vocab_to_int = {c: i for i, c in enumerate(vocab)}\n",
    "int_to_vocab = dict(enumerate(vocab))\n",
    "int_to_vocab[67] = 'unknown_alphabet'\n",
    "train_encode = np.array([vocab_to_int[c] for c in text], dtype=np.int32)\n",
    "\n",
    "# validation data\n",
    "data_URL = '/home/raychiu/Dataset/shakespeare_valid.txt'\n",
    "with open(data_URL, 'r') as f:\n",
    "    text = f.read()\n",
    "\n",
    "valid_encode = np.array([vocab_to_int[c] for c in text], dtype=np.int32)\n",
    "\n",
    "\n",
    "# -------------------------------------------------------------#\n",
    "# Divide data into mini-batches\n",
    "# -------------------------------------------------------------#\n",
    "def get_batches(arr, n_seqs, n_steps):\n",
    "    \n",
    "    '''\n",
    "    arr: data to be divided\n",
    "    n_seqs: batch-size, # of input sequences\n",
    "    n_steps: timestep, # of characters in a input sequences\n",
    "    '''\n",
    "    \n",
    "    batch_size = n_seqs * n_steps\n",
    "    n_batches = int(len(arr) / batch_size)\n",
    "    arr = arr[:batch_size * n_batches]\n",
    "    arr = arr.reshape((n_seqs, -1))\n",
    "    \n",
    "    for n in range(0, arr.shape[1], n_steps):\n",
    "        x = arr[:, n:n+n_steps]\n",
    "        y = np.zeros_like(x)\n",
    "        y[:, :-1], y[:, -1] = x[:, 1:], x[:, 0]\n",
    "        yield x, y\n",
    "\n",
    "# Function above define a generator, call next() to get one mini-batch\n",
    "batch_size = 10\n",
    "timesteps = 50\n",
    "train_batches = get_batches(train_encode, batch_size, timesteps)\n",
    "x, y = next(train_batches)"
   ]
  },
  {
   "cell_type": "code",
   "execution_count": 50,
   "metadata": {},
   "outputs": [],
   "source": [
    "class RNN(nn.Module):\n",
    "    def __init__(self):\n",
    "        super(RNN, self).__init__()\n",
    "        self.rnn=nn.RNN(\n",
    "            input_size = 68,\n",
    "            hidden_size = 128,\n",
    "            num_layers = 1,\n",
    "            batch_first = True,\n",
    "        )\n",
    "        self.out = nn.Linear(128,68)\n",
    "        \n",
    "    def forward(self, x, hidden):\n",
    "        output, hidden = self.rnn(x, hidden)\n",
    "        outs = []\n",
    "        for time_step in range(output.size(1)):\n",
    "            outs.append(self.out(output[:,time_step,:]))\n",
    "        return torch.stack(outs, dim = 1), hidden"
   ]
  },
  {
   "cell_type": "code",
   "execution_count": 51,
   "metadata": {},
   "outputs": [
    {
     "name": "stdout",
     "output_type": "stream",
     "text": [
      "RNN(\n",
      "  (rnn): RNN(68, 128, batch_first=True)\n",
      "  (out): Linear(in_features=128, out_features=68, bias=True)\n",
      ")\n"
     ]
    }
   ],
   "source": [
    "net = RNN()\n",
    "print(net)"
   ]
  },
  {
   "cell_type": "code",
   "execution_count": null,
   "metadata": {
    "scrolled": false
   },
   "outputs": [],
   "source": [
    "learning_rate = 0.001\n",
    "batch_size = 64\n",
    "num_steps = 50\n",
    "rnn = RNN().cuda()\n",
    "optimizer = optim.Adam(rnn.parameters(), lr=learning_rate)\n",
    "criterion = nn.CrossEntropyLoss()\n",
    "\n",
    "loss_train = []\n",
    "loss_test = []\n",
    "for epoch in range(20):\n",
    "    hidden = None\n",
    "    step_loss = []\n",
    "    for x, y in get_batches(train_encode, batch_size, num_steps): \n",
    "        train_x = np.zeros((batch_size,num_steps,68))\n",
    "        for i in range(batch_size):\n",
    "            for j in range(num_steps):\n",
    "                train_x[i, j, x[i,j]] = 1\n",
    "        train_x = Variable(torch.Tensor(train_x)).cuda()\n",
    "        train_y = Variable(torch.LongTensor(y)).cuda()\n",
    "        output, hidden = rnn(train_x, hidden)\n",
    "        # view as reshape\n",
    "        output = output.view(-1,68)\n",
    "        #hidden_t, hidden_t1 = hidden[0],hidden[1]\n",
    "        hidden = Variable(hidden.data)#_t,hidden_t1))\n",
    "        hidden = hidden.cuda()\n",
    "        train_y = train_y.view(-1)\n",
    "        loss = criterion(output, train_y)\n",
    "        optimizer.zero_grad()\n",
    "        loss.backward()\n",
    "        optimizer.step()\n",
    "        # variable to numpy\n",
    "        step_loss.append(loss.data.cpu().numpy())\n",
    "    loss_train.append(np.mean(step_loss))\n",
    "    \n",
    "    hidden = None\n",
    "    step_loss = []\n",
    "    for x, y in get_batches(valid_encode, batch_size, num_steps):        \n",
    "        test_x = np.zeros((batch_size,num_steps,68))\n",
    "        for i in range(batch_size):\n",
    "            for j in range(num_steps):\n",
    "                test_x[i, j, x[i,j]] = 1\n",
    "        test_x = Variable(torch.Tensor(test_x)).cuda()\n",
    "        test_y = Variable(torch.LongTensor(y)).cuda()\n",
    "        output, hidden = rnn(test_x, hidden)\n",
    "        output = output.view(-1,68)\n",
    "        hidden = Variable(hidden.data).cuda()\n",
    "        hidden = hidden.cuda()\n",
    "        test_y = test_y.view(-1)\n",
    "        loss = criterion(output, test_y)\n",
    "        step_loss.append(loss.data.cpu().numpy())\n",
    "    loss_test.append(np.mean(step_loss))"
   ]
  },
  {
   "cell_type": "code",
   "execution_count": 12,
   "metadata": {},
   "outputs": [
    {
     "name": "stdout",
     "output_type": "stream",
     "text": [
      "[2.373075, 1.9968063, 1.8963302, 1.8387562, 1.8008258, 1.7729974, 1.7520598, 1.7359806, 1.7231232, 1.7118272, 1.7028097, 1.6944542, 1.6873927, 1.6813709, 1.6757216, 1.670886, 1.6665591, 1.6621974, 1.6583735, 1.6548911]\n"
     ]
    }
   ],
   "source": [
    "print(loss_train)"
   ]
  },
  {
   "cell_type": "code",
   "execution_count": 13,
   "metadata": {},
   "outputs": [
    {
     "name": "stdout",
     "output_type": "stream",
     "text": [
      "[2.1066062, 1.9618548, 1.9054542, 1.8704586, 1.8482736, 1.8278899, 1.8194308, 1.8116176, 1.8046682, 1.7966666, 1.7917824, 1.7842672, 1.7839116, 1.7772002, 1.7747066, 1.7708877, 1.7763102, 1.7656808, 1.7673333, 1.7685785]\n"
     ]
    }
   ],
   "source": [
    "print(loss_test)"
   ]
  },
  {
   "cell_type": "code",
   "execution_count": 16,
   "metadata": {},
   "outputs": [
    {
     "data": {
      "image/png": "[encoded data removed]",
      "text/plain": [
       "<Figure size 432x288 with 1 Axes>"
      ]
     },
     "metadata": {},
     "output_type": "display_data"
    }
   ],
   "source": [
    "plt.plot(np.arange(20), loss_train, 'r', label='training')\n",
    "plt.plot(np.arange(20), loss_test, 'b', label='validation')\n",
    "plt.title('Learning Curve')\n",
    "plt.xlabel('Epoch')\n",
    "plt.ylabel('Cross Entropy')\n",
    "plt.legend() \n",
    "plt.show()"
   ]
  },
  {
   "cell_type": "code",
   "execution_count": 10,
   "metadata": {},
   "outputs": [],
   "source": [
    "prime_encode = np.array([vocab_to_int[c] for c in 'ROMEO'], dtype=np.int32)\n",
    "prime_decode = [int_to_vocab[c] for c in prime_encode]\n",
    "\n",
    "def softmax(vec):\n",
    "    vec_=np.exp(vec)\n",
    "    return vec_/sum(vec_)"
   ]
  },
  {
   "cell_type": "code",
   "execution_count": null,
   "metadata": {},
   "outputs": [],
   "source": [
    "# by shooting\n",
    "h_state=None\n",
    "gen=[]\n",
    "for i in range(20):\n",
    "    if(i<1):\n",
    "        x_onehot = prime_encode.reshape(-1)\n",
    "        x_onehot = (np.arange(68) == x_onehot[:,None]).astype(np.float32).reshape([5,1,68])\n",
    "    b_x=Variable(torch.Tensor(x_onehot))\n",
    "    b_x=b_x.cuda()\n",
    "    prediction,h_state=rnn(b_x,h_state)\n",
    "    #prediction=prediction.view(-1,68)\n",
    "    h_state=Variable(h_state.data)\n",
    "    h_state=h_state.cuda()\n",
    "    prediction=Variable(prediction.data)\n",
    "    prediction=prediction.cuda()\n",
    "    #m=nn.Softmax()\n",
    "    #prediction_w=m(prediction)\n",
    "    word_encode=prediction.data.cpu().numpy()\n",
    "    #tmp=np.argmax(word_encode.reshape(-1))\n",
    "       # word_encode=word_encode.reshape(-1)\n",
    "    word=[]\n",
    "    \n",
    "    for i in range(5):\n",
    "        #tmp=np.argmax(word_encode[0,i,:])\n",
    "        P=softmax(word_encode[i,0,:].reshape(-1))\n",
    "        #print(P.shape)\n",
    "        tmp=np.random.choice(68,1,p=P)\n",
    "        word.append(tmp)\n",
    "    #print(word)\n",
    "    gen.append(word)\n",
    "    word=np.array(word)\n",
    "    x_onehot = word.reshape(-1)\n",
    "    x_onehot = (np.arange(68) == x_onehot[:,None]).astype(np.float32).reshape([5,1,68])\n",
    "# # x_onehot = word.reshape(-1)\n",
    "# # x_onehot = (np.arange(68) == x_onehot[:,None]).astype(np.float32).reshape([5,1,68])\n",
    "# # b_x=Variable(torch.Tensor(x_onehot))\n",
    "# # b_x=b_x.cuda()\n",
    "# # prediction,h_state=rnn(b_x,h_state)\n",
    "\n",
    "gen=np.array(gen)\n",
    "gen=gen.reshape(-1)\n",
    "print(gen.shape)\n",
    "word = [int_to_vocab[c] for c in gen]\n",
    "print(word)\n",
    "\n"
   ]
  }
 ],
 "metadata": {
  "kernelspec": {
   "display_name": "Tensorflow 1.8",
   "language": "python",
   "name": "tf18"
  },
  "language_info": {
   "codemirror_mode": {
    "name": "ipython",
    "version": 3
   },
   "file_extension": ".py",
   "mimetype": "text/x-python",
   "name": "python",
   "nbconvert_exporter": "python",
   "pygments_lexer": "ipython3",
   "version": "3.5.2"
  }
 },
 "nbformat": 4,
 "nbformat_minor": 2
}
